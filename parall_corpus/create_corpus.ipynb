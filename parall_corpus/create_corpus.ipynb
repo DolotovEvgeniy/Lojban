{
 "cells": [
  {
   "cell_type": "markdown",
   "metadata": {},
   "source": [
    "At first, download sentences and links from [Tatoeba](https://tatoeba.org/eng/downloads)"
   ]
  },
  {
   "cell_type": "code",
   "execution_count": 2,
   "metadata": {},
   "outputs": [],
   "source": [
    "import pandas as pd\n",
    "sent_details = pd.read_csv('sentences.csv', \n",
    "                           sep='\\t', header=None, error_bad_lines=False)\n",
    "sent_details = sent_details.rename(columns={0:'Sentence id', 1:'Lang',  2:'Text'})"
   ]
  },
  {
   "cell_type": "code",
   "execution_count": 3,
   "metadata": {},
   "outputs": [
    {
     "data": {
      "text/html": [
       "<div>\n",
       "<style scoped>\n",
       "    .dataframe tbody tr th:only-of-type {\n",
       "        vertical-align: middle;\n",
       "    }\n",
       "\n",
       "    .dataframe tbody tr th {\n",
       "        vertical-align: top;\n",
       "    }\n",
       "\n",
       "    .dataframe thead th {\n",
       "        text-align: right;\n",
       "    }\n",
       "</style>\n",
       "<table border=\"1\" class=\"dataframe\">\n",
       "  <thead>\n",
       "    <tr style=\"text-align: right;\">\n",
       "      <th></th>\n",
       "      <th>Sentence id</th>\n",
       "      <th>Lang</th>\n",
       "      <th>Text</th>\n",
       "    </tr>\n",
       "  </thead>\n",
       "  <tbody>\n",
       "    <tr>\n",
       "      <th>0</th>\n",
       "      <td>1</td>\n",
       "      <td>cmn</td>\n",
       "      <td>我們試試看！</td>\n",
       "    </tr>\n",
       "    <tr>\n",
       "      <th>1</th>\n",
       "      <td>2</td>\n",
       "      <td>cmn</td>\n",
       "      <td>我该去睡觉了。</td>\n",
       "    </tr>\n",
       "    <tr>\n",
       "      <th>2</th>\n",
       "      <td>3</td>\n",
       "      <td>cmn</td>\n",
       "      <td>你在干什麼啊？</td>\n",
       "    </tr>\n",
       "    <tr>\n",
       "      <th>3</th>\n",
       "      <td>4</td>\n",
       "      <td>cmn</td>\n",
       "      <td>這是什麼啊？</td>\n",
       "    </tr>\n",
       "    <tr>\n",
       "      <th>4</th>\n",
       "      <td>5</td>\n",
       "      <td>cmn</td>\n",
       "      <td>今天是６月１８号，也是Muiriel的生日！</td>\n",
       "    </tr>\n",
       "  </tbody>\n",
       "</table>\n",
       "</div>"
      ],
      "text/plain": [
       "   Sentence id Lang                    Text\n",
       "0            1  cmn                  我們試試看！\n",
       "1            2  cmn                 我该去睡觉了。\n",
       "2            3  cmn                 你在干什麼啊？\n",
       "3            4  cmn                  這是什麼啊？\n",
       "4            5  cmn  今天是６月１８号，也是Muiriel的生日！"
      ]
     },
     "execution_count": 3,
     "metadata": {},
     "output_type": "execute_result"
    }
   ],
   "source": [
    "sent_details.head()"
   ]
  },
  {
   "cell_type": "code",
   "execution_count": 5,
   "metadata": {},
   "outputs": [
    {
     "data": {
      "text/html": [
       "<div>\n",
       "<style scoped>\n",
       "    .dataframe tbody tr th:only-of-type {\n",
       "        vertical-align: middle;\n",
       "    }\n",
       "\n",
       "    .dataframe tbody tr th {\n",
       "        vertical-align: top;\n",
       "    }\n",
       "\n",
       "    .dataframe thead th {\n",
       "        text-align: right;\n",
       "    }\n",
       "</style>\n",
       "<table border=\"1\" class=\"dataframe\">\n",
       "  <thead>\n",
       "    <tr style=\"text-align: right;\">\n",
       "      <th></th>\n",
       "      <th>Sentence id</th>\n",
       "      <th>Translation id</th>\n",
       "    </tr>\n",
       "  </thead>\n",
       "  <tbody>\n",
       "    <tr>\n",
       "      <th>0</th>\n",
       "      <td>1</td>\n",
       "      <td>77</td>\n",
       "    </tr>\n",
       "    <tr>\n",
       "      <th>1</th>\n",
       "      <td>1</td>\n",
       "      <td>1276</td>\n",
       "    </tr>\n",
       "    <tr>\n",
       "      <th>2</th>\n",
       "      <td>1</td>\n",
       "      <td>2481</td>\n",
       "    </tr>\n",
       "    <tr>\n",
       "      <th>3</th>\n",
       "      <td>1</td>\n",
       "      <td>5350</td>\n",
       "    </tr>\n",
       "    <tr>\n",
       "      <th>4</th>\n",
       "      <td>1</td>\n",
       "      <td>5972</td>\n",
       "    </tr>\n",
       "  </tbody>\n",
       "</table>\n",
       "</div>"
      ],
      "text/plain": [
       "   Sentence id  Translation id\n",
       "0            1              77\n",
       "1            1            1276\n",
       "2            1            2481\n",
       "3            1            5350\n",
       "4            1            5972"
      ]
     },
     "execution_count": 5,
     "metadata": {},
     "output_type": "execute_result"
    }
   ],
   "source": [
    "links = pd.read_csv('links.csv', sep='\\t', header=None, error_bad_lines=False)\n",
    "links = links.rename(columns={0:'Sentence id',1:'Translation id'})\n",
    "links.head()"
   ]
  },
  {
   "cell_type": "code",
   "execution_count": 7,
   "metadata": {},
   "outputs": [],
   "source": [
    "sec = sent_details.merge(links)"
   ]
  },
  {
   "cell_type": "code",
   "execution_count": 8,
   "metadata": {},
   "outputs": [],
   "source": [
    "ndf = sec.merge(sec, left_on=['Sentence id','Translation id'],right_on=['Translation id','Sentence id'], suffixes=(1,2))"
   ]
  },
  {
   "cell_type": "code",
   "execution_count": 9,
   "metadata": {},
   "outputs": [
    {
     "data": {
      "text/html": [
       "<div>\n",
       "<style scoped>\n",
       "    .dataframe tbody tr th:only-of-type {\n",
       "        vertical-align: middle;\n",
       "    }\n",
       "\n",
       "    .dataframe tbody tr th {\n",
       "        vertical-align: top;\n",
       "    }\n",
       "\n",
       "    .dataframe thead th {\n",
       "        text-align: right;\n",
       "    }\n",
       "</style>\n",
       "<table border=\"1\" class=\"dataframe\">\n",
       "  <thead>\n",
       "    <tr style=\"text-align: right;\">\n",
       "      <th></th>\n",
       "      <th>Sentence id1</th>\n",
       "      <th>Lang1</th>\n",
       "      <th>Text1</th>\n",
       "      <th>Translation id1</th>\n",
       "      <th>Sentence id2</th>\n",
       "      <th>Lang2</th>\n",
       "      <th>Text2</th>\n",
       "      <th>Translation id2</th>\n",
       "    </tr>\n",
       "  </thead>\n",
       "  <tbody>\n",
       "    <tr>\n",
       "      <th>0</th>\n",
       "      <td>1</td>\n",
       "      <td>cmn</td>\n",
       "      <td>我們試試看！</td>\n",
       "      <td>77</td>\n",
       "      <td>77</td>\n",
       "      <td>deu</td>\n",
       "      <td>Lass uns etwas versuchen!</td>\n",
       "      <td>1</td>\n",
       "    </tr>\n",
       "    <tr>\n",
       "      <th>1</th>\n",
       "      <td>1</td>\n",
       "      <td>cmn</td>\n",
       "      <td>我們試試看！</td>\n",
       "      <td>1276</td>\n",
       "      <td>1276</td>\n",
       "      <td>eng</td>\n",
       "      <td>Let's try something.</td>\n",
       "      <td>1</td>\n",
       "    </tr>\n",
       "    <tr>\n",
       "      <th>2</th>\n",
       "      <td>1</td>\n",
       "      <td>cmn</td>\n",
       "      <td>我們試試看！</td>\n",
       "      <td>2481</td>\n",
       "      <td>2481</td>\n",
       "      <td>spa</td>\n",
       "      <td>¡Intentemos algo!</td>\n",
       "      <td>1</td>\n",
       "    </tr>\n",
       "    <tr>\n",
       "      <th>3</th>\n",
       "      <td>1</td>\n",
       "      <td>cmn</td>\n",
       "      <td>我們試試看！</td>\n",
       "      <td>5350</td>\n",
       "      <td>5350</td>\n",
       "      <td>kor</td>\n",
       "      <td>뭔가 해보자!</td>\n",
       "      <td>1</td>\n",
       "    </tr>\n",
       "    <tr>\n",
       "      <th>4</th>\n",
       "      <td>1</td>\n",
       "      <td>cmn</td>\n",
       "      <td>我們試試看！</td>\n",
       "      <td>5972</td>\n",
       "      <td>5972</td>\n",
       "      <td>nld</td>\n",
       "      <td>Laten we iets proberen!</td>\n",
       "      <td>1</td>\n",
       "    </tr>\n",
       "  </tbody>\n",
       "</table>\n",
       "</div>"
      ],
      "text/plain": [
       "   Sentence id1 Lang1   Text1  Translation id1  Sentence id2 Lang2  \\\n",
       "0             1   cmn  我們試試看！               77            77   deu   \n",
       "1             1   cmn  我們試試看！             1276          1276   eng   \n",
       "2             1   cmn  我們試試看！             2481          2481   spa   \n",
       "3             1   cmn  我們試試看！             5350          5350   kor   \n",
       "4             1   cmn  我們試試看！             5972          5972   nld   \n",
       "\n",
       "                       Text2  Translation id2  \n",
       "0  Lass uns etwas versuchen!                1  \n",
       "1       Let's try something.                1  \n",
       "2          ¡Intentemos algo!                1  \n",
       "3                    뭔가 해보자!                1  \n",
       "4    Laten we iets proberen!                1  "
      ]
     },
     "execution_count": 9,
     "metadata": {},
     "output_type": "execute_result"
    }
   ],
   "source": [
    "ndf.head()"
   ]
  },
  {
   "cell_type": "code",
   "execution_count": 26,
   "metadata": {},
   "outputs": [],
   "source": [
    "eng_loj = ndf[(ndf['Lang1']=='jbo') & (ndf['Lang2']=='eng')]"
   ]
  },
  {
   "cell_type": "code",
   "execution_count": 25,
   "metadata": {},
   "outputs": [
    {
     "data": {
      "text/plain": [
       "(11812, 8)"
      ]
     },
     "execution_count": 25,
     "metadata": {},
     "output_type": "execute_result"
    }
   ],
   "source": [
    "ndf[(ndf['Lang1']=='eng') & (ndf['Lang2']=='jbo')].shape"
   ]
  },
  {
   "cell_type": "code",
   "execution_count": 27,
   "metadata": {},
   "outputs": [
    {
     "data": {
      "text/html": [
       "<div>\n",
       "<style scoped>\n",
       "    .dataframe tbody tr th:only-of-type {\n",
       "        vertical-align: middle;\n",
       "    }\n",
       "\n",
       "    .dataframe tbody tr th {\n",
       "        vertical-align: top;\n",
       "    }\n",
       "\n",
       "    .dataframe thead th {\n",
       "        text-align: right;\n",
       "    }\n",
       "</style>\n",
       "<table border=\"1\" class=\"dataframe\">\n",
       "  <thead>\n",
       "    <tr style=\"text-align: right;\">\n",
       "      <th></th>\n",
       "      <th>Sentence id1</th>\n",
       "      <th>Lang1</th>\n",
       "      <th>Text1</th>\n",
       "      <th>Translation id1</th>\n",
       "      <th>Sentence id2</th>\n",
       "      <th>Lang2</th>\n",
       "      <th>Text2</th>\n",
       "      <th>Translation id2</th>\n",
       "    </tr>\n",
       "  </thead>\n",
       "  <tbody>\n",
       "    <tr>\n",
       "      <th>2557620</th>\n",
       "      <td>599308</td>\n",
       "      <td>jbo</td>\n",
       "      <td>le karce cu bredi</td>\n",
       "      <td>46819</td>\n",
       "      <td>46819</td>\n",
       "      <td>eng</td>\n",
       "      <td>The car is ready.</td>\n",
       "      <td>599308</td>\n",
       "    </tr>\n",
       "    <tr>\n",
       "      <th>2557666</th>\n",
       "      <td>599316</td>\n",
       "      <td>jbo</td>\n",
       "      <td>le mlatu cu nelci lo nu sipna ne'a mi</td>\n",
       "      <td>44558</td>\n",
       "      <td>44558</td>\n",
       "      <td>eng</td>\n",
       "      <td>The cat likes to sleep beside me.</td>\n",
       "      <td>599316</td>\n",
       "    </tr>\n",
       "    <tr>\n",
       "      <th>2557674</th>\n",
       "      <td>599317</td>\n",
       "      <td>jbo</td>\n",
       "      <td>ti du le mi karce</td>\n",
       "      <td>56205</td>\n",
       "      <td>56205</td>\n",
       "      <td>eng</td>\n",
       "      <td>This is my car.</td>\n",
       "      <td>599317</td>\n",
       "    </tr>\n",
       "    <tr>\n",
       "      <th>2557692</th>\n",
       "      <td>599321</td>\n",
       "      <td>jbo</td>\n",
       "      <td>dei na jufra</td>\n",
       "      <td>547389</td>\n",
       "      <td>547389</td>\n",
       "      <td>eng</td>\n",
       "      <td>This is not a sentence.</td>\n",
       "      <td>599321</td>\n",
       "    </tr>\n",
       "    <tr>\n",
       "      <th>2557710</th>\n",
       "      <td>599329</td>\n",
       "      <td>jbo</td>\n",
       "      <td>lo nanla pu smaji</td>\n",
       "      <td>47434</td>\n",
       "      <td>47434</td>\n",
       "      <td>eng</td>\n",
       "      <td>The boy remained silent.</td>\n",
       "      <td>599329</td>\n",
       "    </tr>\n",
       "  </tbody>\n",
       "</table>\n",
       "</div>"
      ],
      "text/plain": [
       "         Sentence id1 Lang1                                  Text1  \\\n",
       "2557620        599308   jbo                      le karce cu bredi   \n",
       "2557666        599316   jbo  le mlatu cu nelci lo nu sipna ne'a mi   \n",
       "2557674        599317   jbo                      ti du le mi karce   \n",
       "2557692        599321   jbo                           dei na jufra   \n",
       "2557710        599329   jbo                      lo nanla pu smaji   \n",
       "\n",
       "         Translation id1  Sentence id2 Lang2  \\\n",
       "2557620            46819         46819   eng   \n",
       "2557666            44558         44558   eng   \n",
       "2557674            56205         56205   eng   \n",
       "2557692           547389        547389   eng   \n",
       "2557710            47434         47434   eng   \n",
       "\n",
       "                                     Text2  Translation id2  \n",
       "2557620                  The car is ready.           599308  \n",
       "2557666  The cat likes to sleep beside me.           599316  \n",
       "2557674                    This is my car.           599317  \n",
       "2557692            This is not a sentence.           599321  \n",
       "2557710           The boy remained silent.           599329  "
      ]
     },
     "execution_count": 27,
     "metadata": {},
     "output_type": "execute_result"
    }
   ],
   "source": [
    "eng_loj.head()"
   ]
  },
  {
   "cell_type": "code",
   "execution_count": 28,
   "metadata": {},
   "outputs": [],
   "source": [
    "with open('lojban.txt', 'w') as f1, open('english.txt', 'w') as f2:\n",
    "    for idx, row in eng_loj.iterrows():\n",
    "        print(row['Text1'], file=f1)\n",
    "        print(row['Text2'], file=f2)"
   ]
  },
  {
   "cell_type": "code",
   "execution_count": null,
   "metadata": {},
   "outputs": [],
   "source": []
  }
 ],
 "metadata": {
  "kernelspec": {
   "display_name": "Python 3",
   "language": "python",
   "name": "python3"
  },
  "language_info": {
   "codemirror_mode": {
    "name": "ipython",
    "version": 3
   },
   "file_extension": ".py",
   "mimetype": "text/x-python",
   "name": "python",
   "nbconvert_exporter": "python",
   "pygments_lexer": "ipython3",
   "version": "3.5.2"
  }
 },
 "nbformat": 4,
 "nbformat_minor": 2
}
